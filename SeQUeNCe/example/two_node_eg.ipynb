{
 "cells": [
  {
   "cell_type": "markdown",
   "metadata": {},
   "source": [
    "# Two Node Entanglement Distribution\n",
    "\n",
    "In this file, we use SeQUeNCe to simulate entanglement distribution between two adjacent network nodes (using only the Barrett-Kok entanglement generation protocol). The network topology, including hardware components, is shown below:\n",
    "\n",
    "<img src=\"./notebook_images/2_node_topo.png\" width=\"500\"/>"
   ]
  },
  {
   "cell_type": "markdown",
   "metadata": {},
   "source": [
    "## Example\n",
    "\n",
    "### Import\n",
    "\n",
    "We must first import the necessary tools from SeQUeNCe to run our simulations.\n",
    "\n",
    "- `Timeline` is the main simulation tool, providing an interface for the discrete-event simulation kernel.\n",
    "- `QuantumRouter` provides a ready-to-use quantum router implementing SeQUeNCe's modular design. `BSMNode` provides a simpler, ready-to-use quantum node placed between routers as required by the entanglement generation protocol.\n",
    "- `QuantumChannel` and `ClassicalChannel` are communication links between quantum nodes, providing models of optical fibers.\n",
    "- The `Rule` class is used to direct the behavior of protocols within the simulation by providing explicit steps to be taken. Rules include a condition that must be met by a router and the action that should be performed when the condition is met.\n",
    "- The `EntanglementGenerationA` is our implementation of the Barrett-Kok protocol and is used in defining rules for this simulation."
   ]
  },
  {
   "cell_type": "code",
   "execution_count": 3,
   "metadata": {},
   "outputs": [],
   "source": [
    "from ipywidgets import interact\n",
    "from matplotlib import pyplot as plt\n",
    "import time"
   ]
  },
  {
   "cell_type": "code",
   "execution_count": 4,
   "metadata": {},
   "outputs": [],
   "source": [
    "from sequence.kernel.timeline import Timeline\n",
    "from sequence.topology.node import QuantumRouter, BSMNode\n",
    "from sequence.components.optical_channel import QuantumChannel, ClassicalChannel\n",
    "from sequence.resource_management.rule_manager import Rule\n",
    "from sequence.entanglement_management.generation import EntanglementGenerationA"
   ]
  },
  {
   "cell_type": "markdown",
   "metadata": {},
   "source": [
    "### Defining Custom Behavior with Rules\n",
    "\n",
    "This example demonstrates how to use rules within the Resource Management module to define network behavior. In SeQUeNCe, rules define a **condition** under which the rule is satisfied and an **action** that should be performed by a node's Resource Management module when the condition is met. More details are available in the documentation on rules, but we implement the basics here.\n",
    "\n",
    "The rule condition we define simply requires a memory to be in the `RAW` state, that is, not occupied by a protocol or entangled with another memory.\n",
    "\n",
    "The rule action differs between the two router nodes in the network. On the first node, a memory that meets our condition is given to an `EntanglementGenerationA` instance to begin entanglement. The action returns this protocol as well as a requirement of the other router -- that it also has an `EntanglementGenerationA` protocol to pair to. On the second router, the protocol is simply created and returned by the action."
   ]
  },
  {
   "cell_type": "code",
   "execution_count": 5,
   "metadata": {},
   "outputs": [],
   "source": [
    "# our rule condition requires RAW (unentangled) memories\n",
    "def eg_rule_condition(memory_info, manager):\n",
    "    if memory_info.state == \"RAW\":\n",
    "        return [memory_info]\n",
    "    else:\n",
    "        return []\n",
    "\n",
    "# define action to be taken when we meet our condition on router 1\n",
    "def eg_rule_action1(memories_info):\n",
    "    # define requirement of protocols on other node\n",
    "    def eg_req_func(protocols):\n",
    "        for protocol in protocols:\n",
    "            if isinstance(protocol, EntanglementGenerationA):\n",
    "                return protocol\n",
    "            \n",
    "    # create entanglement generation protocol with proper parameters\n",
    "    memories = [info.memory for info in memories_info]\n",
    "    memory = memories[0]\n",
    "    protocol = EntanglementGenerationA(None, \"EGA.\" + memory.name, \"m1\", \"r2\", memory)\n",
    "    protocol.primary = True\n",
    "    \n",
    "    # return values for a rule are the protocol created, the destination node, and the destination codition\n",
    "    return [protocol, [\"r2\"], [eg_req_func]]\n",
    "\n",
    "# define action to be taken when we meet our condition on router 2\n",
    "def eg_rule_action2(memories_info):\n",
    "    memories = [info.memory for info in memories_info]\n",
    "    memory = memories[0]\n",
    "    protocol = EntanglementGenerationA(None, \"EGA.\" + memory.name, \"m1\", \"r1\", memory)\n",
    "    return [protocol, [None], [None]]"
   ]
  },
  {
   "cell_type": "markdown",
   "metadata": {},
   "source": [
    "### Building the Simulation\n",
    "\n",
    "We are now ready to build the simulation itself. This example follows the usual process to ensure that all tools function properly:\n",
    "\n",
    "1. Create the timeline for the simulation\n",
    "2. Create the simulated network topology (here this is done explicitly, but this may also be handled by functions of the `Topology` class under `sequence.topology.topology`)\n",
    "    - This includes adjustment of default hardware parameters as necessary\n",
    "3. Instantiate custom protocols and ensure all protocols are set up (paired) properly (if necessary)\n",
    "4. Initialize and run the simulation\n",
    "    - This includes installation of custom rules\n",
    "5. Collect and display the desired metrics\n",
    "\n",
    "For this example, the desired metric is the number of completed entanglements over time (the aggregate number of entangled memories). Several elements of SeQUeNCe, including the Resource Management module, automatically collect simple metrics such as entanglement time. For custom or more advanced metrics, custom code may need to be written and applied. See the documentation for a list of metrics provided by default for each simulation tool."
   ]
  },
  {
   "cell_type": "code",
   "execution_count": 6,
   "metadata": {},
   "outputs": [],
   "source": [
    "def test(sim_time, cc_delay, qc_atten, qc_dist):\n",
    "    \"\"\"\n",
    "    sim_time: duration of simulation time (ms)\n",
    "    cc_delay: delay on classical channels (ns)\n",
    "    qc_atten: attenuation on quantum channels (db/m)\n",
    "    qc_dist: distance of quantum channels (km)\n",
    "    \"\"\"\n",
    "    cc_delay *= 1e6\n",
    "    qc_dist *= 1e3\n",
    "    # construct the simulation timeline; the constructor argument is the simulation time (in ps)\n",
    "    tl = Timeline(sim_time * 1e9)\n",
    "    tl.seed(0)\n",
    "    \n",
    "    # first, construct the quantum routers\n",
    "    # (with arguments for the node name, timeline, and number of quantum memories)\n",
    "    r1 = QuantumRouter(\"r1\", tl)\n",
    "    r2 = QuantumRouter(\"r2\", tl)\n",
    "    # next, construct the BSM nodes\n",
    "    # (with arguments for the node name, timeline, and the names of connected routers)\n",
    "    m1 = BSMNode(\"m1\", tl, [\"r1\", \"r2\"])\n",
    "    for node in [r1, r2]:\n",
    "        # update coherence time parameter for node memories (measured in seconds)\n",
    "        node.memory_array.update_memory_params(\"coherence_time\", 0.3)\n",
    "    \n",
    "    # create all-to-all classical connections\n",
    "    nodes = [r1, r2, m1]\n",
    "    for node1 in nodes:\n",
    "        for node2 in nodes:\n",
    "            if node1 == node2:\n",
    "                continue\n",
    "            # construct a classical communication channel\n",
    "            # (with arguments for the channel name, timeline, length (in m), and delay (in ps))\n",
    "            cc = ClassicalChannel(\"_\".join([\"cc\", node1.name, node2.name]), tl, 1e3, delay=cc_delay)\n",
    "            cc.set_ends(node1, node2)\n",
    "    \n",
    "    # create linear quantum network between routers and middle node\n",
    "    # for this, we create quantum channels\n",
    "    # (with arguments for the channel name, timeline, attenuation (in dB/km), and distance (in m))\n",
    "    qc1 = QuantumChannel(\"qc_r1_m1\", tl, qc_atten, qc_dist)\n",
    "    qc1.set_ends(r1, m1)\n",
    "    qc2 = QuantumChannel(\"qc_r2_m1\", tl, qc_atten, qc_dist)\n",
    "    qc2.set_ends(r2, m1)\n",
    "    \n",
    "    # initialize our simulation kernel and instantiate the written rules\n",
    "    tl.init()\n",
    "    rule1 = Rule(10, eg_rule_action1, eg_rule_condition)\n",
    "    r1.resource_manager.load(rule1)\n",
    "    rule2 = Rule(10, eg_rule_action2, eg_rule_condition)\n",
    "    r2.resource_manager.load(rule2)\n",
    "    \n",
    "    tick = time.time()\n",
    "    tl.run()\n",
    "    print(\"execution time %.2f sec\" % (time.time() - tick))\n",
    "    \n",
    "    # display our collected metrics\n",
    "    data = []\n",
    "    for info in r1.resource_manager.memory_manager:\n",
    "        if info.entangle_time > 0:\n",
    "            data.append(info.entangle_time / 1e12)\n",
    "    data.sort()\n",
    "    plt.plot(data, range(1, len(data) + 1), marker=\"o\")\n",
    "    plt.xlabel(\"Simulation Time (s)\")\n",
    "    plt.ylabel(\"Aggregated Number of Entangled Memory\")\n",
    "    plt.show()"
   ]
  },
  {
   "cell_type": "markdown",
   "metadata": {},
   "source": [
    "### Running the Simulation\n",
    "\n",
    "All that is left is to run the simulation with user input.\n",
    "\n",
    "Parameters:\n",
    "\n",
    "    sim_time: duration of simulation time (ms)\n",
    "    cc_delay: delay on classical channels (ns)\n",
    "    qc_atten: attenuation on quantum channels (db/m)\n",
    "    qc_dist: distance of quantum channels (km)\n",
    "    \n",
    "The maximum execution time is around 2 seconds."
   ]
  },
  {
   "cell_type": "code",
   "execution_count": 7,
   "metadata": {
    "scrolled": false
   },
   "outputs": [
    {
     "name": "stdout",
     "output_type": "stream",
     "text": [
      "execution time 1.61 sec\n"
     ]
    },
    {
     "data": {
      "image/png": "[encoded data removed]",
      "text/plain": [
       "<Figure size 432x288 with 1 Axes>"
      ]
     },
     "metadata": {
      "needs_background": "light"
     },
     "output_type": "display_data"
    },
    {
     "data": {
      "text/plain": [
       "<function __main__.test(sim_time, cc_delay, qc_atten, qc_dist)>"
      ]
     },
     "execution_count": 7,
     "metadata": {},
     "output_type": "execute_result"
    }
   ],
   "source": [
    "interactive_plot = interact(test, sim_time=(100, 1000, 100), cc_delay=(100, 10000, 100), qc_atten=[1e-4, 2e-4, 3e-4], qc_dist=(1, 10, 1))\n",
    "interactive_plot"
   ]
  },
  {
   "cell_type": "markdown",
   "metadata": {
    "pycharm": {
     "name": "#%% md\n"
    }
   },
   "source": [
    "### Results\n",
    "\n",
    "In this example, we note that the number of entangled memories increases at a roughly linear rate with a slope inversely proportional to the quantum channel length and attenuation. We also see clusters of memories entangled at roughly the same time, based on entanglement processes that are started at the same time and encounter similar errors. The time intervals between these events roughly corresponds to the classical channel delay."
   ]
  },
  {
   "cell_type": "code",
   "execution_count": null,
   "metadata": {},
   "outputs": [],
   "source": []
  }
 ],
 "metadata": {
  "kernelspec": {
   "display_name": "Python 3",
   "language": "python",
   "name": "python3"
  },
  "language_info": {
   "codemirror_mode": {
    "name": "ipython",
    "version": 3
   },
   "file_extension": ".py",
   "mimetype": "text/x-python",
   "name": "python",
   "nbconvert_exporter": "python",
   "pygments_lexer": "ipython3",
   "version": "3.9.2"
  }
 },
 "nbformat": 4,
 "nbformat_minor": 2
}
